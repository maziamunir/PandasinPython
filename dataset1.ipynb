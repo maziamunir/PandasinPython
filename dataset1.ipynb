{
 "cells": [
  {
   "cell_type": "code",
   "execution_count": 1,
   "id": "a97423e1-4a3e-4598-aaf3-ce7dddfbbb30",
   "metadata": {},
   "outputs": [],
   "source": [
    "import pandas as pd"
   ]
  },
  {
   "cell_type": "code",
   "execution_count": 39,
   "id": "14d7bf80-d076-4460-84ed-75be35f4680c",
   "metadata": {},
   "outputs": [],
   "source": [
    "import os\n",
    "import pandas as pd\n",
    "\n",
    "# Full path to your file\n",
    "file_path = r\"C:\\Users\\Dell\\Documents\\melb_data(1).csv\"\n",
    "# Check if the file exists\n",
    "if os.path.exists(file_path):\n",
    "    df= pd.read_csv(file_path)"
   ]
  },
  {
   "cell_type": "code",
   "execution_count": 41,
   "id": "fb912fd1-d579-40ef-9637-c2e7c53ebc7a",
   "metadata": {},
   "outputs": [
    {
     "name": "stdout",
     "output_type": "stream",
     "text": [
      "7597\n"
     ]
    }
   ],
   "source": [
    "total_values=len(df)\n",
    "print (total_values)"
   ]
  },
  {
   "cell_type": "code",
   "execution_count": 51,
   "id": "64480e1f-3e48-4b5f-b9ee-cd3baed54adc",
   "metadata": {},
   "outputs": [
    {
     "name": "stdout",
     "output_type": "stream",
     "text": [
      "Suburb              0\n",
      "Address             0\n",
      "Rooms               0\n",
      "Type                0\n",
      "Price               0\n",
      "Method              0\n",
      "SellerG             0\n",
      "Date                0\n",
      "Distance            0\n",
      "Postcode            0\n",
      "Bedroom2            0\n",
      "Bathroom            0\n",
      "Car                 0\n",
      "Landsize            0\n",
      "BuildingArea     3381\n",
      "YearBuilt        2752\n",
      "CouncilArea         1\n",
      "Lattitude           1\n",
      "Longtitude          1\n",
      "Regionname          1\n",
      "Propertycount       1\n",
      "dtype: int64\n"
     ]
    }
   ],
   "source": [
    "missing_values=(df.isna().sum())\n",
    "print(missing_values)"
   ]
  },
  {
   "cell_type": "code",
   "execution_count": 57,
   "id": "23672eea-04fe-41b5-91da-b950a0d5b4e6",
   "metadata": {},
   "outputs": [
    {
     "name": "stdout",
     "output_type": "stream",
     "text": [
      "Suburb            0.000000\n",
      "Address           0.000000\n",
      "Rooms             0.000000\n",
      "Type              0.000000\n",
      "Price             0.000000\n",
      "Method            0.000000\n",
      "SellerG           0.000000\n",
      "Date              0.000000\n",
      "Distance          0.000000\n",
      "Postcode          0.000000\n",
      "Bedroom2          0.000000\n",
      "Bathroom          0.000000\n",
      "Car               0.000000\n",
      "Landsize          0.000000\n",
      "BuildingArea     44.504410\n",
      "YearBuilt        36.224826\n",
      "CouncilArea       0.013163\n",
      "Lattitude         0.013163\n",
      "Longtitude        0.013163\n",
      "Regionname        0.013163\n",
      "Propertycount     0.013163\n",
      "dtype: float64 %\n"
     ]
    }
   ],
   "source": [
    "missing_values=((df.isna().sum()/total_values)*100)\n",
    "print (missing_values,\"%\")"
   ]
  },
  {
   "cell_type": "code",
   "execution_count": 67,
   "id": "3082d749-835d-41f6-89c7-a987d330f987",
   "metadata": {},
   "outputs": [
    {
     "name": "stdout",
     "output_type": "stream",
     "text": [
      "          Suburb           Address  Rooms Type    Price Method   SellerG  \\\n",
      "0     Abbotsford      85 Turner St      2    h  1480000      S    Biggin   \n",
      "1     Abbotsford   25 Bloomburg St      2    h  1035000      S    Biggin   \n",
      "2     Abbotsford      5 Charles St      3    h  1465000     SP    Biggin   \n",
      "3     Abbotsford  40 Federation La      3    h   850000     PI    Biggin   \n",
      "4     Abbotsford       55a Park St      4    h  1600000     VB    Nelson   \n",
      "...          ...               ...    ...  ...      ...    ...       ...   \n",
      "7592   Brunswick   217 Victoria St      3    h  1210000      S  Woodards   \n",
      "7593   Brunswick   4/287 Albion St      1    h   412000      S    Nelson   \n",
      "7594   Brunswick   2/199 Barkly St      1    u   528000      S    Nelson   \n",
      "7595   Brunswick      10 Bennie St      3    h  1115000      S     Caine   \n",
      "7596   Brunswick  373 Brunswick Rd      3    h  1300000     VB    Nelson   \n",
      "\n",
      "           Date  Distance  Postcode  Bedroom2  Bathroom  Car  Landsize  \\\n",
      "0     3/12/2016       2.5      3067         2         1    1       202   \n",
      "1      4/2/2016       2.5      3067         2         1    0       156   \n",
      "2      4/3/2017       2.5      3067         3         2    0       134   \n",
      "3      4/3/2017       2.5      3067         3         2    1        94   \n",
      "4      4/6/2016       2.5      3067         3         1    2       120   \n",
      "...         ...       ...       ...       ...       ...  ...       ...   \n",
      "7592   6/5/2017       5.2      3056         3         1    0       282   \n",
      "7593   8/4/2017       5.2      3056         1         1    1        85   \n",
      "7594   8/4/2017       5.2      3056         1         1    1         0   \n",
      "7595   8/4/2017       5.2      3056         3         1    1       249   \n",
      "7596   8/4/2017       5.2      3056         3         2    3       299   \n",
      "\n",
      "     CouncilArea  Lattitude  Longtitude             Regionname  Propertycount  \n",
      "0          Yarra   -37.7996    144.9984  Northern Metropolitan         4019.0  \n",
      "1          Yarra   -37.8079    144.9934  Northern Metropolitan         4019.0  \n",
      "2          Yarra   -37.8093    144.9944  Northern Metropolitan         4019.0  \n",
      "3          Yarra   -37.7969    144.9969  Northern Metropolitan         4019.0  \n",
      "4          Yarra   -37.8072    144.9941  Northern Metropolitan         4019.0  \n",
      "...          ...        ...         ...                    ...            ...  \n",
      "7592    Moreland   -37.7674    144.9660  Northern Metropolitan        11918.0  \n",
      "7593    Moreland   -37.7598    144.9563  Northern Metropolitan        11918.0  \n",
      "7594    Moreland   -37.7767    144.9676  Northern Metropolitan        11918.0  \n",
      "7595    Moreland   -37.7669    144.9664  Northern Metropolitan        11918.0  \n",
      "7596        More        NaN         NaN                    NaN            NaN  \n",
      "\n",
      "[7597 rows x 19 columns]\n"
     ]
    }
   ],
   "source": [
    "columns_to_drop = missing_values[missing_values > 20].index\n",
    "df_cleaned = df.drop(columns=columns_to_drop)\n",
    "print(df_cleaned)"
   ]
  },
  {
   "cell_type": "code",
   "execution_count": 95,
   "id": "a3db4af4-776a-46b0-a0a3-beeadd47ce6b",
   "metadata": {},
   "outputs": [],
   "source": [
    "numerical_columns=df_cleaned.select_dtypes(include=['number']).columns"
   ]
  },
  {
   "cell_type": "code",
   "execution_count": 97,
   "id": "0925db51-fc30-44c0-a4e6-4a36756b2ef6",
   "metadata": {},
   "outputs": [],
   "source": [
    "median_values = df_cleaned[numerical_columns].median()"
   ]
  },
  {
   "cell_type": "code",
   "execution_count": 99,
   "id": "9c9ff1a3-76ef-4258-ae30-ef5f609d4b41",
   "metadata": {},
   "outputs": [],
   "source": [
    "df_cleaned[numerical_columns] = df_cleaned[numerical_columns].fillna(median_values)"
   ]
  },
  {
   "cell_type": "code",
   "execution_count": 101,
   "id": "36a457a0-0c8a-4d1b-8afa-6692822ce1e6",
   "metadata": {},
   "outputs": [
    {
     "name": "stdout",
     "output_type": "stream",
     "text": [
      "          Suburb           Address  Rooms Type    Price Method   SellerG  \\\n",
      "0     Abbotsford      85 Turner St      2    h  1480000      S    Biggin   \n",
      "1     Abbotsford   25 Bloomburg St      2    h  1035000      S    Biggin   \n",
      "2     Abbotsford      5 Charles St      3    h  1465000     SP    Biggin   \n",
      "3     Abbotsford  40 Federation La      3    h   850000     PI    Biggin   \n",
      "4     Abbotsford       55a Park St      4    h  1600000     VB    Nelson   \n",
      "...          ...               ...    ...  ...      ...    ...       ...   \n",
      "7592   Brunswick   217 Victoria St      3    h  1210000      S  Woodards   \n",
      "7593   Brunswick   4/287 Albion St      1    h   412000      S    Nelson   \n",
      "7594   Brunswick   2/199 Barkly St      1    u   528000      S    Nelson   \n",
      "7595   Brunswick      10 Bennie St      3    h  1115000      S     Caine   \n",
      "7596   Brunswick  373 Brunswick Rd      3    h  1300000     VB    Nelson   \n",
      "\n",
      "           Date  Distance  Postcode  Bedroom2  Bathroom  Car  Landsize  \\\n",
      "0     3/12/2016       2.5      3067         2         1    1       202   \n",
      "1      4/2/2016       2.5      3067         2         1    0       156   \n",
      "2      4/3/2017       2.5      3067         3         2    0       134   \n",
      "3      4/3/2017       2.5      3067         3         2    1        94   \n",
      "4      4/6/2016       2.5      3067         3         1    2       120   \n",
      "...         ...       ...       ...       ...       ...  ...       ...   \n",
      "7592   6/5/2017       5.2      3056         3         1    0       282   \n",
      "7593   8/4/2017       5.2      3056         1         1    1        85   \n",
      "7594   8/4/2017       5.2      3056         1         1    1         0   \n",
      "7595   8/4/2017       5.2      3056         3         1    1       249   \n",
      "7596   8/4/2017       5.2      3056         3         2    3       299   \n",
      "\n",
      "     CouncilArea  Lattitude  Longtitude             Regionname  Propertycount  \n",
      "0          Yarra   -37.7996    144.9984  Northern Metropolitan         4019.0  \n",
      "1          Yarra   -37.8079    144.9934  Northern Metropolitan         4019.0  \n",
      "2          Yarra   -37.8093    144.9944  Northern Metropolitan         4019.0  \n",
      "3          Yarra   -37.7969    144.9969  Northern Metropolitan         4019.0  \n",
      "4          Yarra   -37.8072    144.9941  Northern Metropolitan         4019.0  \n",
      "...          ...        ...         ...                    ...            ...  \n",
      "7592    Moreland   -37.7674    144.9660  Northern Metropolitan        11918.0  \n",
      "7593    Moreland   -37.7598    144.9563  Northern Metropolitan        11918.0  \n",
      "7594    Moreland   -37.7767    144.9676  Northern Metropolitan        11918.0  \n",
      "7595    Moreland   -37.7669    144.9664  Northern Metropolitan        11918.0  \n",
      "7596        More   -37.8037    144.9960                    NaN         6567.0  \n",
      "\n",
      "[7597 rows x 19 columns]\n"
     ]
    }
   ],
   "source": [
    "print (df_cleaned)"
   ]
  },
  {
   "cell_type": "code",
   "execution_count": 103,
   "id": "d9972d55-6b03-4557-bb74-c8157c17f583",
   "metadata": {},
   "outputs": [
    {
     "name": "stdout",
     "output_type": "stream",
     "text": [
      "Suburb           0\n",
      "Address          0\n",
      "Rooms            0\n",
      "Type             0\n",
      "Price            0\n",
      "Method           0\n",
      "SellerG          0\n",
      "Date             0\n",
      "Distance         0\n",
      "Postcode         0\n",
      "Bedroom2         0\n",
      "Bathroom         0\n",
      "Car              0\n",
      "Landsize         0\n",
      "CouncilArea      1\n",
      "Lattitude        0\n",
      "Longtitude       0\n",
      "Regionname       1\n",
      "Propertycount    0\n",
      "dtype: int64\n"
     ]
    }
   ],
   "source": [
    "print (df_cleaned.isna().sum())"
   ]
  },
  {
   "cell_type": "code",
   "execution_count": 115,
   "id": "3ec7b6c2-7aae-4450-96a9-ccdfeb949e7b",
   "metadata": {},
   "outputs": [
    {
     "name": "stdout",
     "output_type": "stream",
     "text": [
      "          Suburb           Address  Rooms Type    Price Method   SellerG  \\\n",
      "0     Abbotsford      85 Turner St      2    h  1480000      S    Biggin   \n",
      "1     Abbotsford   25 Bloomburg St      2    h  1035000      S    Biggin   \n",
      "2     Abbotsford      5 Charles St      3    h  1465000     SP    Biggin   \n",
      "3     Abbotsford  40 Federation La      3    h   850000     PI    Biggin   \n",
      "4     Abbotsford       55a Park St      4    h  1600000     VB    Nelson   \n",
      "...          ...               ...    ...  ...      ...    ...       ...   \n",
      "7592   Brunswick   217 Victoria St      3    h  1210000      S  Woodards   \n",
      "7593   Brunswick   4/287 Albion St      1    h   412000      S    Nelson   \n",
      "7594   Brunswick   2/199 Barkly St      1    u   528000      S    Nelson   \n",
      "7595   Brunswick      10 Bennie St      3    h  1115000      S     Caine   \n",
      "7596   Brunswick  373 Brunswick Rd      3    h  1300000     VB    Nelson   \n",
      "\n",
      "           Date  Distance  Postcode  Bedroom2  Bathroom  Car  Landsize  \\\n",
      "0     3/12/2016       2.5      3067         2         1    1       202   \n",
      "1      4/2/2016       2.5      3067         2         1    0       156   \n",
      "2      4/3/2017       2.5      3067         3         2    0       134   \n",
      "3      4/3/2017       2.5      3067         3         2    1        94   \n",
      "4      4/6/2016       2.5      3067         3         1    2       120   \n",
      "...         ...       ...       ...       ...       ...  ...       ...   \n",
      "7592   6/5/2017       5.2      3056         3         1    0       282   \n",
      "7593   8/4/2017       5.2      3056         1         1    1        85   \n",
      "7594   8/4/2017       5.2      3056         1         1    1         0   \n",
      "7595   8/4/2017       5.2      3056         3         1    1       249   \n",
      "7596   8/4/2017       5.2      3056         3         2    3       299   \n",
      "\n",
      "     CouncilArea  Lattitude  Longtitude             Regionname  Propertycount  \n",
      "0          Yarra   -37.7996    144.9984  Northern Metropolitan         4019.0  \n",
      "1          Yarra   -37.8079    144.9934  Northern Metropolitan         4019.0  \n",
      "2          Yarra   -37.8093    144.9944  Northern Metropolitan         4019.0  \n",
      "3          Yarra   -37.7969    144.9969  Northern Metropolitan         4019.0  \n",
      "4          Yarra   -37.8072    144.9941  Northern Metropolitan         4019.0  \n",
      "...          ...        ...         ...                    ...            ...  \n",
      "7592    Moreland   -37.7674    144.9660  Northern Metropolitan        11918.0  \n",
      "7593    Moreland   -37.7598    144.9563  Northern Metropolitan        11918.0  \n",
      "7594    Moreland   -37.7767    144.9676  Northern Metropolitan        11918.0  \n",
      "7595    Moreland   -37.7669    144.9664  Northern Metropolitan        11918.0  \n",
      "7596        More   -37.8037    144.9960  Southern Metropolitan         6567.0  \n",
      "\n",
      "[7597 rows x 19 columns]\n"
     ]
    }
   ],
   "source": [
    "categorical_columns=df_cleaned.select_dtypes(include=['object']).columns\n",
    "mode_values = df_cleaned[categorical_columns].mode().iloc[0]\n",
    "df_cleaned[categorical_columns] = df_cleaned[categorical_columns].fillna(mode_values)\n",
    "print(df_cleaned)"
   ]
  },
  {
   "cell_type": "code",
   "execution_count": 117,
   "id": "8eb773c5-6cfb-4be8-83c7-d72231bc5d46",
   "metadata": {},
   "outputs": [
    {
     "name": "stdout",
     "output_type": "stream",
     "text": [
      "        Suburb          Address  Rooms Type    Price Method        SellerG  \\\n",
      "5257  Richmond       81 Erin St      3    h  1260000      S         Biggin   \n",
      "5258  Richmond  52 Lyndhurst St      3    t  1236000      S         Jellis   \n",
      "5263  Richmond        7 Bank St      3    h  1600000      S  hockingstuart   \n",
      "5264  Richmond      29 Bowen St      3    h  2180000     PI           Blue   \n",
      "5266  Richmond      131 Lord St      4    h  3335000      S         Jellis   \n",
      "\n",
      "           Date  Distance  Postcode  ...  Bathroom  Car  Landsize  \\\n",
      "5257   3/9/2016       2.6      3121  ...         1    0       203   \n",
      "5258   3/9/2016       2.6      3121  ...         2    1       675   \n",
      "5263  3/12/2016       2.6      3121  ...         2    1       115   \n",
      "5264  3/12/2016       2.6      3121  ...         2    2       345   \n",
      "5266  3/12/2016       2.6      3121  ...         2    2       319   \n",
      "\n",
      "      BuildingArea  YearBuilt  CouncilArea Lattitude  Longtitude  \\\n",
      "5257          81.0     1900.0        Yarra  -37.8166    144.9945   \n",
      "5258           NaN        NaN        Yarra  -37.8206    145.0003   \n",
      "5263           NaN        NaN        Yarra  -37.8163    144.9984   \n",
      "5264           NaN        NaN        Yarra  -37.8159    144.9940   \n",
      "5266           NaN     1893.0        Yarra  -37.8244    145.0044   \n",
      "\n",
      "                 Regionname Propertycount  \n",
      "5257  Northern Metropolitan       14949.0  \n",
      "5258  Northern Metropolitan       14949.0  \n",
      "5263  Northern Metropolitan       14949.0  \n",
      "5264  Northern Metropolitan       14949.0  \n",
      "5266  Northern Metropolitan       14949.0  \n",
      "\n",
      "[5 rows x 21 columns]\n"
     ]
    }
   ],
   "source": [
    "richmond_houses = df[(df[\"Suburb\"] == \"Richmond\") & (df[\"Price\"] > 1000000)]\n",
    "print(richmond_houses.head())\n"
   ]
  },
  {
   "cell_type": "code",
   "execution_count": 121,
   "id": "b6eb8439-b718-467d-b6ac-4483d7768572",
   "metadata": {},
   "outputs": [
    {
     "name": "stdout",
     "output_type": "stream",
     "text": [
      "        Price         Suburb  BuildingArea\n",
      "20    1330000     Abbotsford         135.0\n",
      "22    1090000     Abbotsford          27.0\n",
      "45     720000   Airport West           NaN\n",
      "46     785000   Airport West         127.0\n",
      "47     725000   Airport West         186.0\n",
      "...       ...            ...           ...\n",
      "7584  1270000  Brighton East           NaN\n",
      "7585  1400000  Brighton East           NaN\n",
      "7586  1640000  Brighton East           NaN\n",
      "7588  1900000  Brighton East         271.0\n",
      "7590  1652000      Brunswick         196.8\n",
      "\n",
      "[2923 rows x 3 columns]\n"
     ]
    }
   ],
   "source": [
    "df_filtered = df.loc[df[\"Landsize\"] > 500, [\"Price\", \"Suburb\", \"BuildingArea\"]]\n",
    "print(df_filtered)"
   ]
  },
  {
   "cell_type": "code",
   "execution_count": 123,
   "id": "20d12401-f125-43fa-9efd-7aec1b71e24a",
   "metadata": {},
   "outputs": [
    {
     "name": "stdout",
     "output_type": "stream",
     "text": [
      "           Suburb           Address  Rooms Type    Price Method   SellerG  \\\n",
      "3616          Kew       15 Barry St      6    h  6500000      S    Jellis   \n",
      "6372       Toorak      17 Albany Rd      3    h  6250000      S       Kay   \n",
      "7554     Brighton     161 Church St      5    h  5800000     PI   Castran   \n",
      "5631  South Yarra       18 Avoca St      4    h  5700000      S   Castran   \n",
      "251      Armadale  367 Dandenong Rd      6    h  5525000      S  Marshall   \n",
      "\n",
      "            Date  Distance  Postcode  ...  Bathroom  Car  Landsize  \\\n",
      "3616  13/08/2016       5.6      3101  ...         6    3      1334   \n",
      "6372  15/10/2016       4.6      3142  ...         3    2       564   \n",
      "7554    8/4/2017      11.2      3186  ...         4    4      1276   \n",
      "5631  12/11/2016       3.3      3141  ...         2    0       292   \n",
      "251   17/09/2016       6.3      3143  ...         3    4      1491   \n",
      "\n",
      "      BuildingArea  YearBuilt  CouncilArea Lattitude  Longtitude  \\\n",
      "3616         365.0     1890.0   Boroondara  -37.8029    145.0267   \n",
      "6372         342.0     2000.0  Stonnington  -37.8486    145.0244   \n",
      "7554           NaN     1880.0      Bayside  -37.9164    144.9974   \n",
      "5631         272.0     1880.0  Stonnington  -37.8377    144.9894   \n",
      "251          516.0     1935.0  Stonnington  -37.8602    145.0130   \n",
      "\n",
      "                 Regionname Propertycount  \n",
      "3616  Southern Metropolitan       10331.0  \n",
      "6372  Southern Metropolitan        7217.0  \n",
      "7554  Southern Metropolitan       10579.0  \n",
      "5631  Southern Metropolitan       14887.0  \n",
      "251   Southern Metropolitan        4836.0  \n",
      "\n",
      "[5 rows x 21 columns]\n"
     ]
    }
   ],
   "source": [
    "df_sorted = df.sort_values(by=\"Price\", ascending=False)\n",
    "print(df_sorted.head(5))\n"
   ]
  },
  {
   "cell_type": "code",
   "execution_count": 127,
   "id": "051b13af-894f-4169-98cd-ff9da7ab865d",
   "metadata": {},
   "outputs": [
    {
     "name": "stdout",
     "output_type": "stream",
     "text": [
      "          Suburb           Address  Rooms Type    Price Method   SellerG  \\\n",
      "0     Abbotsford      85 Turner St      2    h  1480000      S    Biggin   \n",
      "1     Abbotsford   25 Bloomburg St      2    h  1035000      S    Biggin   \n",
      "2     Abbotsford      5 Charles St      3    h  1465000     SP    Biggin   \n",
      "3     Abbotsford  40 Federation La      3    h   850000     PI    Biggin   \n",
      "4     Abbotsford       55a Park St      4    h  1600000     VB    Nelson   \n",
      "...          ...               ...    ...  ...      ...    ...       ...   \n",
      "7592   Brunswick   217 Victoria St      3    h  1210000      S  Woodards   \n",
      "7593   Brunswick   4/287 Albion St      1    h   412000      S    Nelson   \n",
      "7594   Brunswick   2/199 Barkly St      1    u   528000      S    Nelson   \n",
      "7595   Brunswick      10 Bennie St      3    h  1115000      S     Caine   \n",
      "7596   Brunswick  373 Brunswick Rd      3    h  1300000     VB    Nelson   \n",
      "\n",
      "           Date  Distance  Postcode  ...  Car  Landsize  BuildingArea  \\\n",
      "0     3/12/2016       2.5      3067  ...    1       202           NaN   \n",
      "1      4/2/2016       2.5      3067  ...    0       156          79.0   \n",
      "2      4/3/2017       2.5      3067  ...    0       134         150.0   \n",
      "3      4/3/2017       2.5      3067  ...    1        94           NaN   \n",
      "4      4/6/2016       2.5      3067  ...    2       120         142.0   \n",
      "...         ...       ...       ...  ...  ...       ...           ...   \n",
      "7592   6/5/2017       5.2      3056  ...    0       282         112.0   \n",
      "7593   8/4/2017       5.2      3056  ...    1        85           NaN   \n",
      "7594   8/4/2017       5.2      3056  ...    1         0          58.0   \n",
      "7595   8/4/2017       5.2      3056  ...    1       249         116.0   \n",
      "7596   8/4/2017       5.2      3056  ...    3       299           NaN   \n",
      "\n",
      "      YearBuilt  CouncilArea  Lattitude Longtitude             Regionname  \\\n",
      "0           NaN        Yarra   -37.7996   144.9984  Northern Metropolitan   \n",
      "1        1900.0        Yarra   -37.8079   144.9934  Northern Metropolitan   \n",
      "2        1900.0        Yarra   -37.8093   144.9944  Northern Metropolitan   \n",
      "3           NaN        Yarra   -37.7969   144.9969  Northern Metropolitan   \n",
      "4        2014.0        Yarra   -37.8072   144.9941  Northern Metropolitan   \n",
      "...         ...          ...        ...        ...                    ...   \n",
      "7592     1900.0     Moreland   -37.7674   144.9660  Northern Metropolitan   \n",
      "7593        NaN     Moreland   -37.7598   144.9563  Northern Metropolitan   \n",
      "7594     2010.0     Moreland   -37.7767   144.9676  Northern Metropolitan   \n",
      "7595     1925.0     Moreland   -37.7669   144.9664  Northern Metropolitan   \n",
      "7596        NaN         More        NaN        NaN                    NaN   \n",
      "\n",
      "      Propertycount Price_per_Room  \n",
      "0            4019.0  740000.000000  \n",
      "1            4019.0  517500.000000  \n",
      "2            4019.0  488333.333333  \n",
      "3            4019.0  283333.333333  \n",
      "4            4019.0  400000.000000  \n",
      "...             ...            ...  \n",
      "7592        11918.0  403333.333333  \n",
      "7593        11918.0  412000.000000  \n",
      "7594        11918.0  528000.000000  \n",
      "7595        11918.0  371666.666667  \n",
      "7596            NaN  433333.333333  \n",
      "\n",
      "[7597 rows x 22 columns]\n"
     ]
    }
   ],
   "source": [
    "df[\"Price_per_Room\"] = df[\"Price\"] / df[\"Rooms\"]\n",
    "print(df)"
   ]
  },
  {
   "cell_type": "code",
   "execution_count": 137,
   "id": "9ae9563f-4f16-4e48-927f-d8d33b895dc8",
   "metadata": {},
   "outputs": [
    {
     "name": "stdout",
     "output_type": "stream",
     "text": [
      "          Suburb           Address  Rooms Type    Price Method   SellerG  \\\n",
      "0     Abbotsford      85 Turner St      2    h  1480000      S    Biggin   \n",
      "1     Abbotsford   25 Bloomburg St      2    h  1035000      S    Biggin   \n",
      "2     Abbotsford      5 Charles St      3    h  1465000     SP    Biggin   \n",
      "3     Abbotsford  40 Federation La      3    h   850000     PI    Biggin   \n",
      "4     Abbotsford       55a Park St      4    h  1600000     VB    Nelson   \n",
      "...          ...               ...    ...  ...      ...    ...       ...   \n",
      "7592   Brunswick   217 Victoria St      3    h  1210000      S  Woodards   \n",
      "7593   Brunswick   4/287 Albion St      1    h   412000      S    Nelson   \n",
      "7594   Brunswick   2/199 Barkly St      1    u   528000      S    Nelson   \n",
      "7595   Brunswick      10 Bennie St      3    h  1115000      S     Caine   \n",
      "7596   Brunswick  373 Brunswick Rd      3    h  1300000     VB    Nelson   \n",
      "\n",
      "           Date  Distance  Postcode  ...  Car  Landsize  BuildingArea  \\\n",
      "0    2016-03-12       2.5      3067  ...    1       202           NaN   \n",
      "1    2016-04-02       2.5      3067  ...    0       156          79.0   \n",
      "2    2017-04-03       2.5      3067  ...    0       134         150.0   \n",
      "3    2017-04-03       2.5      3067  ...    1        94           NaN   \n",
      "4    2016-04-06       2.5      3067  ...    2       120         142.0   \n",
      "...         ...       ...       ...  ...  ...       ...           ...   \n",
      "7592 2017-06-05       5.2      3056  ...    0       282         112.0   \n",
      "7593 2017-08-04       5.2      3056  ...    1        85           NaN   \n",
      "7594 2017-08-04       5.2      3056  ...    1         0          58.0   \n",
      "7595 2017-08-04       5.2      3056  ...    1       249         116.0   \n",
      "7596 2017-08-04       5.2      3056  ...    3       299           NaN   \n",
      "\n",
      "      YearBuilt  CouncilArea  Lattitude Longtitude             Regionname  \\\n",
      "0           NaN        Yarra   -37.7996   144.9984  Northern Metropolitan   \n",
      "1        1900.0        Yarra   -37.8079   144.9934  Northern Metropolitan   \n",
      "2        1900.0        Yarra   -37.8093   144.9944  Northern Metropolitan   \n",
      "3           NaN        Yarra   -37.7969   144.9969  Northern Metropolitan   \n",
      "4        2014.0        Yarra   -37.8072   144.9941  Northern Metropolitan   \n",
      "...         ...          ...        ...        ...                    ...   \n",
      "7592     1900.0     Moreland   -37.7674   144.9660  Northern Metropolitan   \n",
      "7593        NaN     Moreland   -37.7598   144.9563  Northern Metropolitan   \n",
      "7594     2010.0     Moreland   -37.7767   144.9676  Northern Metropolitan   \n",
      "7595     1925.0     Moreland   -37.7669   144.9664  Northern Metropolitan   \n",
      "7596        NaN         More        NaN        NaN                    NaN   \n",
      "\n",
      "      Propertycount Price_per_Room  \n",
      "0            4019.0  740000.000000  \n",
      "1            4019.0  517500.000000  \n",
      "2            4019.0  488333.333333  \n",
      "3            4019.0  283333.333333  \n",
      "4            4019.0  400000.000000  \n",
      "...             ...            ...  \n",
      "7592        11918.0  403333.333333  \n",
      "7593        11918.0  412000.000000  \n",
      "7594        11918.0  528000.000000  \n",
      "7595        11918.0  371666.666667  \n",
      "7596            NaN  433333.333333  \n",
      "\n",
      "[7597 rows x 22 columns]\n"
     ]
    }
   ],
   "source": [
    "df['Date'] = pd.to_datetime(df['Date'], errors='coerce')\n",
    "invalid_dates = df[df['Date'].isna()]\n",
    "print(df)"
   ]
  },
  {
   "cell_type": "code",
   "execution_count": 141,
   "id": "7f697df3-69ae-4de1-92cf-b7e4f6ad14ad",
   "metadata": {},
   "outputs": [
    {
     "name": "stdout",
     "output_type": "stream",
     "text": [
      "          Suburb           Address  Rooms Type    Price Method   SellerG  \\\n",
      "0     Abbotsford      85 Turner St      2    h  1480000      S    Biggin   \n",
      "1     Abbotsford   25 Bloomburg St      2    h  1035000      S    Biggin   \n",
      "2     Abbotsford      5 Charles St      3    h  1465000     SP    Biggin   \n",
      "3     Abbotsford  40 Federation La      3    h   850000     PI    Biggin   \n",
      "4     Abbotsford       55a Park St      4    h  1600000     VB    Nelson   \n",
      "...          ...               ...    ...  ...      ...    ...       ...   \n",
      "7592   Brunswick   217 Victoria St      3    h  1210000      S  Woodards   \n",
      "7593   Brunswick   4/287 Albion St      1    h   412000      S    Nelson   \n",
      "7594   Brunswick   2/199 Barkly St      1    u   528000      S    Nelson   \n",
      "7595   Brunswick      10 Bennie St      3    h  1115000      S     Caine   \n",
      "7596   Brunswick  373 Brunswick Rd      3    h  1300000     VB    Nelson   \n",
      "\n",
      "           Date  Distance  Postcode  ...  Landsize  BuildingArea  YearBuilt  \\\n",
      "0    2016-03-12       2.5      3067  ...       202           NaN        NaN   \n",
      "1    2016-04-02       2.5      3067  ...       156          79.0     1900.0   \n",
      "2    2017-04-03       2.5      3067  ...       134         150.0     1900.0   \n",
      "3    2017-04-03       2.5      3067  ...        94           NaN        NaN   \n",
      "4    2016-04-06       2.5      3067  ...       120         142.0     2014.0   \n",
      "...         ...       ...       ...  ...       ...           ...        ...   \n",
      "7592 2017-06-05       5.2      3056  ...       282         112.0     1900.0   \n",
      "7593 2017-08-04       5.2      3056  ...        85           NaN        NaN   \n",
      "7594 2017-08-04       5.2      3056  ...         0          58.0     2010.0   \n",
      "7595 2017-08-04       5.2      3056  ...       249         116.0     1925.0   \n",
      "7596 2017-08-04       5.2      3056  ...       299           NaN        NaN   \n",
      "\n",
      "      CouncilArea  Lattitude  Longtitude             Regionname  \\\n",
      "0           Yarra   -37.7996    144.9984  Northern Metropolitan   \n",
      "1           Yarra   -37.8079    144.9934  Northern Metropolitan   \n",
      "2           Yarra   -37.8093    144.9944  Northern Metropolitan   \n",
      "3           Yarra   -37.7969    144.9969  Northern Metropolitan   \n",
      "4           Yarra   -37.8072    144.9941  Northern Metropolitan   \n",
      "...           ...        ...         ...                    ...   \n",
      "7592     Moreland   -37.7674    144.9660  Northern Metropolitan   \n",
      "7593     Moreland   -37.7598    144.9563  Northern Metropolitan   \n",
      "7594     Moreland   -37.7767    144.9676  Northern Metropolitan   \n",
      "7595     Moreland   -37.7669    144.9664  Northern Metropolitan   \n",
      "7596         More        NaN         NaN                    NaN   \n",
      "\n",
      "      Propertycount  Price_per_Room Year_Sold  \n",
      "0            4019.0   740000.000000    2016.0  \n",
      "1            4019.0   517500.000000    2016.0  \n",
      "2            4019.0   488333.333333    2017.0  \n",
      "3            4019.0   283333.333333    2017.0  \n",
      "4            4019.0   400000.000000    2016.0  \n",
      "...             ...             ...       ...  \n",
      "7592        11918.0   403333.333333    2017.0  \n",
      "7593        11918.0   412000.000000    2017.0  \n",
      "7594        11918.0   528000.000000    2017.0  \n",
      "7595        11918.0   371666.666667    2017.0  \n",
      "7596            NaN   433333.333333    2017.0  \n",
      "\n",
      "[7597 rows x 23 columns]\n"
     ]
    }
   ],
   "source": [
    "df[\"Year_Sold\"] = df[\"Date\"].dt.year\n",
    "print(df)"
   ]
  },
  {
   "cell_type": "code",
   "execution_count": 143,
   "id": "ba1f3463-3873-4252-ae29-036ef0992d75",
   "metadata": {},
   "outputs": [
    {
     "name": "stdout",
     "output_type": "stream",
     "text": [
      "Suburb\n",
      "Abbotsford            1.077237e+06\n",
      "Aberfeldie            1.235581e+06\n",
      "Airport West          7.123625e+05\n",
      "Albert Park           1.903274e+06\n",
      "Albion                5.728333e+05\n",
      "                          ...     \n",
      "Williamstown          1.287449e+06\n",
      "Williamstown North    7.348500e+05\n",
      "Windsor               9.464886e+05\n",
      "Yallambie             7.703824e+05\n",
      "Yarraville            9.610279e+05\n",
      "Name: Price, Length: 142, dtype: float64\n"
     ]
    }
   ],
   "source": [
    "suburb_avg_price = df.groupby(\"Suburb\")[\"Price\"].mean()\n",
    "print(suburb_avg_price)\n"
   ]
  },
  {
   "cell_type": "code",
   "execution_count": 145,
   "id": "b4b5fa48-e7c3-4ab4-92d4-e8f20384d91d",
   "metadata": {},
   "outputs": [
    {
     "name": "stdout",
     "output_type": "stream",
     "text": [
      "Suburb\n",
      "Abbotsford             38\n",
      "Aberfeldie             31\n",
      "Airport West           40\n",
      "Albert Park            53\n",
      "Albion                 24\n",
      "                     ... \n",
      "Williamstown           68\n",
      "Williamstown North     10\n",
      "Windsor                44\n",
      "Yallambie              17\n",
      "Yarraville            102\n",
      "Name: Price, Length: 142, dtype: int64\n"
     ]
    }
   ],
   "source": [
    "properties_per_suburb = df.groupby(\"Suburb\")[\"Price\"].count()\n",
    "print(properties_per_suburb)\n"
   ]
  },
  {
   "cell_type": "code",
   "execution_count": 147,
   "id": "c6e36c71-f500-44d7-91dd-89e8f3284064",
   "metadata": {},
   "outputs": [
    {
     "name": "stdout",
     "output_type": "stream",
     "text": [
      "Most expensive suburb: Canterbury\n"
     ]
    }
   ],
   "source": [
    "most_expensive_suburb = suburb_avg_price.idxmax()\n",
    "print(\"Most expensive suburb:\", most_expensive_suburb)\n"
   ]
  },
  {
   "cell_type": "code",
   "execution_count": 149,
   "id": "e0bed950-ba07-4fcb-b49a-421ecbb80214",
   "metadata": {},
   "outputs": [],
   "source": [
    "median_price = df[\"Price\"].median()\n",
    "df[\"Category\"] = df[\"Price\"].apply(lambda x: \"Expensive\" if x > median_price else \"Affordable\")\n"
   ]
  },
  {
   "cell_type": "code",
   "execution_count": 161,
   "id": "7620e889-2735-4830-b4c3-ec9482741b66",
   "metadata": {
    "scrolled": true
   },
   "outputs": [
    {
     "data": {
      "text/plain": [
       "<Axes: xlabel='Suburb'>"
      ]
     },
     "execution_count": 161,
     "metadata": {},
     "output_type": "execute_result"
    },
    {
     "data": {
      "image/png": "[encoded data removed]",
      "text/plain": [
       "<Figure size 640x480 with 1 Axes>"
      ]
     },
     "metadata": {},
     "output_type": "display_data"
    }
   ],
   "source": [
    "suburb_avg_price.head(40).plot(kind=\"bar\")"
   ]
  },
  {
   "cell_type": "code",
   "execution_count": 165,
   "id": "b8fd0e95-a024-456e-a6b9-fcb299219fd8",
   "metadata": {},
   "outputs": [],
   "source": [
    "df_cleaned.to_csv('cleaned_data.csv', index=False)\n",
    "df.to_csv('after_interpretation.csv',index=False)"
   ]
  },
  {
   "cell_type": "code",
   "execution_count": 167,
   "id": "fdcd71d6-6741-4e3c-9f5a-85441ff41ad2",
   "metadata": {},
   "outputs": [],
   "source": [
    "df_cleaned.to_excel('cleaned_data.xlsx',index=False)"
   ]
  },
  {
   "cell_type": "code",
   "execution_count": null,
   "id": "6abcb3d3-2043-4cfa-9045-4016bc3a7b64",
   "metadata": {},
   "outputs": [],
   "source": []
  }
 ],
 "metadata": {
  "kernelspec": {
   "display_name": "Python 3 (ipykernel)",
   "language": "python",
   "name": "python3"
  },
  "language_info": {
   "codemirror_mode": {
    "name": "ipython",
    "version": 3
   },
   "file_extension": ".py",
   "mimetype": "text/x-python",
   "name": "python",
   "nbconvert_exporter": "python",
   "pygments_lexer": "ipython3",
   "version": "3.12.4"
  }
 },
 "nbformat": 4,
 "nbformat_minor": 5
}
